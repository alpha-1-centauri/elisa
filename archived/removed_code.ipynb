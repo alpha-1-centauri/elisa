{
 "cells": [
  {
   "cell_type": "code",
   "execution_count": 1,
   "metadata": {},
   "outputs": [],
   "source": [
    "#from app.labeller import labeller - currently not working due to issues in installing Weasyprint on streamlit\n",
    "\n",
    "\n",
    "# deactivating the label generator for now due to issues in installing Weasyprint on streamlit\n",
    "    \n",
    "    # with tab2:\n",
    "    #     # Streamlit UI setup\n",
    "    #     st.title('Label Generator')\n",
    "    #     label_type = st.selectbox('Label Type', ['circle', 'rect'])\n",
    "    #     label_text_input = st.text_area('Enter label texts separated by newline')\n",
    "    #     skip_rows = st.number_input('Skip Rows', min_value=0, value=0)\n",
    "    #     output_file_name = st.text_input('Output File Name', value='output')\n",
    "\n",
    "    #     if st.button('Generate Labels'):\n",
    "    #         label_txt_list = label_text_input.split('\\n')\n",
    "    #         html, pdf_file = labeller(label_type, label_txt_list, skip_rows)\n",
    "    #         st.download_button(label=\"Download PDF\", data=pdf_file, file_name=\"labels.pdf\", mime=\"application/pdf\")\n",
    "    #         st.markdown(html, unsafe_allow_html=True)\n"
   ]
  },
  {
   "cell_type": "code",
   "execution_count": null,
   "metadata": {},
   "outputs": [],
   "source": [
    "  \n",
    "        # std_curve_concentrations = {\n",
    "        #     'AAT': [1000, 200, 40, 8, 1.6, 0.32, 0.064, 0],\n",
    "        #     'ALB': [400, 200, 100, 50, 25, 12.5, 6.25, 0],\n",
    "        #     'mAST': [10000, 5000, 2500, 1250, 625, 312.5, 156.25, 0],\n",
    "        #     'BCA assay': [1500,1000,750,500,250,125,25,0]\n",
    "        # }"
   ]
  }
 ],
 "metadata": {
  "kernelspec": {
   "display_name": "base",
   "language": "python",
   "name": "python3"
  },
  "language_info": {
   "codemirror_mode": {
    "name": "ipython",
    "version": 3
   },
   "file_extension": ".py",
   "mimetype": "text/x-python",
   "name": "python",
   "nbconvert_exporter": "python",
   "pygments_lexer": "ipython3",
   "version": "3.11.7"
  }
 },
 "nbformat": 4,
 "nbformat_minor": 2
}
